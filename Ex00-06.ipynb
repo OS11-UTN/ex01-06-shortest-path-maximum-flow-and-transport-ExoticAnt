{
 "cells": [
  {
   "cell_type": "markdown",
   "metadata": {},
   "source": [
    "# OS11 - Exercises 0-6"
   ]
  },
  {
   "cell_type": "code",
   "execution_count": 20,
   "metadata": {},
   "outputs": [],
   "source": [
    "from sympy import *"
   ]
  },
  {
   "cell_type": "code",
   "execution_count": 21,
   "metadata": {},
   "outputs": [],
   "source": [
    "import numpy as np"
   ]
  },
  {
   "cell_type": "code",
   "execution_count": 22,
   "metadata": {},
   "outputs": [],
   "source": [
    "import scipy.linalg as linalg"
   ]
  },
  {
   "cell_type": "code",
   "execution_count": 79,
   "metadata": {},
   "outputs": [],
   "source": [
    "from scipy.optimize import linprog"
   ]
  },
  {
   "cell_type": "code",
   "execution_count": null,
   "metadata": {},
   "outputs": [],
   "source": []
  },
  {
   "cell_type": "code",
   "execution_count": 23,
   "metadata": {},
   "outputs": [],
   "source": [
    "from itertools import *"
   ]
  },
  {
   "cell_type": "markdown",
   "metadata": {},
   "source": [
    "## Exercise 0"
   ]
  },
  {
   "cell_type": "markdown",
   "metadata": {},
   "source": [
    "Build a function that transforms a Node-Node matrix to a Node-Arc matrix."
   ]
  },
  {
   "cell_type": "markdown",
   "metadata": {},
   "source": [
    "### Data Introduction"
   ]
  },
  {
   "cell_type": "markdown",
   "metadata": {},
   "source": [
    "Data will be introduced on a list of (origin, dest, cost) tuples (or any indexable)."
   ]
  },
  {
   "cell_type": "code",
   "execution_count": 24,
   "metadata": {},
   "outputs": [],
   "source": [
    "datos_originales = []"
   ]
  },
  {
   "cell_type": "code",
   "execution_count": 25,
   "metadata": {},
   "outputs": [],
   "source": [
    "datos_originales.append((1, 2, 1))\n",
    "#datos_originales.append((2, 1, 1))   #creo un ciclo a proposito #no es una buena idea\n",
    "datos_originales.append((1, 3, 1))\n",
    "datos_originales.append((2, 3, 1))\n",
    "datos_originales.append((3, 4, 1))\n",
    "datos_originales.append((4, 1, 1))\n"
   ]
  },
  {
   "cell_type": "code",
   "execution_count": 26,
   "metadata": {},
   "outputs": [
    {
     "data": {
      "text/plain": [
       "[(1, 2, 1), (1, 3, 1), (2, 3, 1), (3, 4, 1), (4, 1, 1)]"
      ]
     },
     "execution_count": 26,
     "metadata": {},
     "output_type": "execute_result"
    }
   ],
   "source": [
    "datos_originales"
   ]
  },
  {
   "cell_type": "markdown",
   "metadata": {},
   "source": [
    "### Node-Node Matrix creation"
   ]
  },
  {
   "cell_type": "markdown",
   "metadata": {},
   "source": [
    "We need to pass from a sparse to a dense matrix formulation."
   ]
  },
  {
   "cell_type": "code",
   "execution_count": 27,
   "metadata": {},
   "outputs": [],
   "source": [
    "#Max nodes:\n",
    "nodes = 0\n",
    "for d in datos_originales:\n",
    "    if d[0]> nodes:\n",
    "        nodes =d[0]\n",
    "    if d[1] > nodes:\n",
    "        nodes = d[1]"
   ]
  },
  {
   "cell_type": "code",
   "execution_count": 28,
   "metadata": {},
   "outputs": [
    {
     "data": {
      "text/plain": [
       "4"
      ]
     },
     "execution_count": 28,
     "metadata": {},
     "output_type": "execute_result"
    }
   ],
   "source": [
    "nodes"
   ]
  },
  {
   "cell_type": "code",
   "execution_count": 29,
   "metadata": {},
   "outputs": [],
   "source": [
    "NN = np.zeros((4,4))"
   ]
  },
  {
   "cell_type": "code",
   "execution_count": 30,
   "metadata": {},
   "outputs": [
    {
     "data": {
      "text/plain": [
       "array([[0., 0., 0., 0.],\n",
       "       [0., 0., 0., 0.],\n",
       "       [0., 0., 0., 0.],\n",
       "       [0., 0., 0., 0.]])"
      ]
     },
     "execution_count": 30,
     "metadata": {},
     "output_type": "execute_result"
    }
   ],
   "source": [
    "NN"
   ]
  },
  {
   "cell_type": "code",
   "execution_count": 31,
   "metadata": {},
   "outputs": [],
   "source": [
    "for d in datos_originales:\n",
    "    NN[d[0]-1, d[1]-1] = d[2]"
   ]
  },
  {
   "cell_type": "code",
   "execution_count": 32,
   "metadata": {},
   "outputs": [
    {
     "data": {
      "text/plain": [
       "array([[0., 1., 1., 0.],\n",
       "       [0., 0., 1., 0.],\n",
       "       [0., 0., 0., 1.],\n",
       "       [1., 0., 0., 0.]])"
      ]
     },
     "execution_count": 32,
     "metadata": {},
     "output_type": "execute_result"
    }
   ],
   "source": [
    "NN"
   ]
  },
  {
   "cell_type": "markdown",
   "metadata": {},
   "source": [
    "### Arc Detection"
   ]
  },
  {
   "cell_type": "markdown",
   "metadata": {},
   "source": [
    "We create a funtion that returns a list of arcs and weights from NN matrix. Basically reverts to original data."
   ]
  },
  {
   "cell_type": "code",
   "execution_count": 33,
   "metadata": {},
   "outputs": [],
   "source": [
    "def arc_detection(NN):\n",
    "    arcs = []\n",
    "    #each arc will be represented as a tuple\n",
    "    for a in ((x,y) for x in range(NN.shape[0]) for y in range(NN.shape[1])):\n",
    "        if NN[a]>0:\n",
    "            arcs.append((a, NN[a]))\n",
    "    return arcs"
   ]
  },
  {
   "cell_type": "code",
   "execution_count": 34,
   "metadata": {},
   "outputs": [],
   "source": [
    "arcs = arc_detection(NN)"
   ]
  },
  {
   "cell_type": "code",
   "execution_count": 35,
   "metadata": {},
   "outputs": [
    {
     "data": {
      "text/plain": [
       "[((0, 1), 1.0), ((0, 2), 1.0), ((1, 2), 1.0), ((2, 3), 1.0), ((3, 0), 1.0)]"
      ]
     },
     "execution_count": 35,
     "metadata": {},
     "output_type": "execute_result"
    }
   ],
   "source": [
    "arcs"
   ]
  },
  {
   "cell_type": "markdown",
   "metadata": {},
   "source": [
    "### Arc-Nodes Matrix Creation"
   ]
  },
  {
   "cell_type": "markdown",
   "metadata": {},
   "source": [
    "Finally we created ANMatrix funtion that receives a n N x N matrix and returns a Nodes x Arcs Matrix."
   ]
  },
  {
   "cell_type": "code",
   "execution_count": 36,
   "metadata": {},
   "outputs": [],
   "source": [
    "def ANMatrix(NN):\n",
    "    arcs = arc_detection(NN)\n",
    "    MN = np.zeros((NN.shape[0], len(arcs))).astype(int)\n",
    "    for a in range(len(arcs)):\n",
    "        MN[arcs[a][0][0], a] = arcs[a][1]\n",
    "        MN[arcs[a][0][1], a] = -arcs[a][1]\n",
    "    arcss = [a[0] for a in arcs]\n",
    "    return MN, arcss"
   ]
  },
  {
   "cell_type": "code",
   "execution_count": 37,
   "metadata": {},
   "outputs": [
    {
     "data": {
      "text/plain": [
       "(array([[ 1,  1,  0,  0, -1],\n",
       "        [-1,  0,  1,  0,  0],\n",
       "        [ 0, -1, -1,  1,  0],\n",
       "        [ 0,  0,  0, -1,  1]]),\n",
       " [(0, 1), (0, 2), (1, 2), (2, 3), (3, 0)])"
      ]
     },
     "execution_count": 37,
     "metadata": {},
     "output_type": "execute_result"
    }
   ],
   "source": [
    "ANMatrix(NN)"
   ]
  },
  {
   "cell_type": "markdown",
   "metadata": {},
   "source": [
    "## Ex. 01-02"
   ]
  },
  {
   "cell_type": "markdown",
   "metadata": {},
   "source": [
    "Data introduction: we load the graph using Ex. 0 technique."
   ]
  },
  {
   "cell_type": "code",
   "execution_count": 38,
   "metadata": {},
   "outputs": [],
   "source": [
    "named_nodes = ['s', 2, 3, 4, 5, 't']   #node enumeration. Can be any non repeated inmutable."
   ]
  },
  {
   "cell_type": "markdown",
   "metadata": {},
   "source": [
    "I want to use index notation on node names, for this we can create a dictionary with node names and indexes."
   ]
  },
  {
   "cell_type": "code",
   "execution_count": 39,
   "metadata": {},
   "outputs": [],
   "source": [
    "def nodes_indexer(named_nodes):\n",
    "    nodes = {}\n",
    "    for i in range(len(named_nodes)):\n",
    "        nodes[named_nodes[i]] = i\n",
    "    return nodes"
   ]
  },
  {
   "cell_type": "code",
   "execution_count": 40,
   "metadata": {},
   "outputs": [],
   "source": [
    "nodes = nodes_indexer(named_nodes)"
   ]
  },
  {
   "cell_type": "markdown",
   "metadata": {},
   "source": [
    "Example:"
   ]
  },
  {
   "cell_type": "code",
   "execution_count": 41,
   "metadata": {},
   "outputs": [
    {
     "data": {
      "text/plain": [
       "5"
      ]
     },
     "execution_count": 41,
     "metadata": {},
     "output_type": "execute_result"
    }
   ],
   "source": [
    "nodes['t']"
   ]
  },
  {
   "cell_type": "code",
   "execution_count": 42,
   "metadata": {},
   "outputs": [
    {
     "data": {
      "text/plain": [
       "4"
      ]
     },
     "execution_count": 42,
     "metadata": {},
     "output_type": "execute_result"
    }
   ],
   "source": [
    "nodes[5]"
   ]
  },
  {
   "cell_type": "markdown",
   "metadata": {},
   "source": [
    "Using nodes indexed, I load oriented graph data using Ex. 0 schema."
   ]
  },
  {
   "cell_type": "code",
   "execution_count": 43,
   "metadata": {},
   "outputs": [
    {
     "data": {
      "text/plain": [
       "[((0, 1), 2),\n",
       " ((0, 2), 2),\n",
       " ((1, 3), 2),\n",
       " ((1, 5), 5),\n",
       " ((2, 4), 2),\n",
       " ((3, 5), 1),\n",
       " ((4, 5), 2)]"
      ]
     },
     "execution_count": 43,
     "metadata": {},
     "output_type": "execute_result"
    }
   ],
   "source": [
    "graph = []\n",
    "\n",
    "graph.append(((nodes['s'], nodes[2]), 2))\n",
    "graph.append(((nodes['s'], nodes[3]), 2))\n",
    "graph.append(((nodes[2], nodes[4]), 2))\n",
    "graph.append(((nodes[2], nodes['t']), 5))\n",
    "graph.append(((nodes[3], nodes[5]), 2))\n",
    "graph.append(((nodes[4], nodes['t']), 1))\n",
    "graph.append(((nodes[5], nodes['t']), 2))\n",
    "\n",
    "graph\n"
   ]
  },
  {
   "cell_type": "markdown",
   "metadata": {},
   "source": [
    "I'll construct a new Arc-Nodes matrix function that uses directly graph data."
   ]
  },
  {
   "cell_type": "code",
   "execution_count": 54,
   "metadata": {},
   "outputs": [],
   "source": [
    "def ANMatrix_from_arcs(graph, num_nodes):\n",
    "    num_arcs = len(graph)\n",
    "    arcs = []\n",
    "    MN = np.zeros((num_nodes, num_arcs)).astype(int)\n",
    "    for a in range(len(graph)):\n",
    "        MN[graph[a][0][0], a] = 1\n",
    "        MN[graph[a][0][1], a] = -1\n",
    "        arcs.append(graph[a][0])\n",
    "    return MN, arcs"
   ]
  },
  {
   "cell_type": "code",
   "execution_count": 57,
   "metadata": {},
   "outputs": [
    {
     "data": {
      "text/plain": [
       "(array([[ 1,  1,  0,  0,  0,  0,  0],\n",
       "        [-1,  0,  1,  1,  0,  0,  0],\n",
       "        [ 0, -1,  0,  0,  1,  0,  0],\n",
       "        [ 0,  0, -1,  0,  0,  1,  0],\n",
       "        [ 0,  0,  0,  0, -1,  0,  1],\n",
       "        [ 0,  0,  0, -1,  0, -1, -1]]),\n",
       " [(0, 1), (0, 2), (1, 3), (1, 5), (2, 4), (3, 5), (4, 5)])"
      ]
     },
     "execution_count": 57,
     "metadata": {},
     "output_type": "execute_result"
    }
   ],
   "source": [
    "res = ANMatrix_from_arcs(graph, len(nodes))\n",
    "res"
   ]
  },
  {
   "cell_type": "code",
   "execution_count": 58,
   "metadata": {},
   "outputs": [],
   "source": [
    "MAN = res[0]\n",
    "arcos = res[1]"
   ]
  },
  {
   "cell_type": "markdown",
   "metadata": {},
   "source": [
    "Necesitamos construir el vector de costos (longitudes entre nodos)."
   ]
  },
  {
   "cell_type": "code",
   "execution_count": 63,
   "metadata": {},
   "outputs": [],
   "source": [
    "def costos(graph):\n",
    "    c = []\n",
    "    for a in graph:\n",
    "        c.append(a[1])\n",
    "    return c"
   ]
  },
  {
   "cell_type": "code",
   "execution_count": 69,
   "metadata": {},
   "outputs": [
    {
     "data": {
      "text/plain": [
       "array([2, 2, 2, 5, 2, 1, 2])"
      ]
     },
     "execution_count": 69,
     "metadata": {},
     "output_type": "execute_result"
    }
   ],
   "source": [
    "c = costos(graph)\n",
    "c = np.array(c)\n",
    "c"
   ]
  },
  {
   "cell_type": "markdown",
   "metadata": {},
   "source": [
    "El verctor de igualdades b:\n",
    "    "
   ]
  },
  {
   "cell_type": "code",
   "execution_count": 76,
   "metadata": {},
   "outputs": [
    {
     "data": {
      "text/plain": [
       "array([0., 0., 0., 0., 0., 0.])"
      ]
     },
     "execution_count": 76,
     "metadata": {},
     "output_type": "execute_result"
    }
   ],
   "source": [
    "b = np.zeros((len(nodes)))\n",
    "b"
   ]
  },
  {
   "cell_type": "markdown",
   "metadata": {},
   "source": [
    "Asignamos los valores predeterminados de los nodos de entrada y salida:"
   ]
  },
  {
   "cell_type": "code",
   "execution_count": 77,
   "metadata": {},
   "outputs": [],
   "source": [
    "b[nodes['s']] = 1\n",
    "b[nodes['t']] = -1"
   ]
  },
  {
   "cell_type": "code",
   "execution_count": 78,
   "metadata": {},
   "outputs": [
    {
     "data": {
      "text/plain": [
       "array([ 1.,  0.,  0.,  0.,  0., -1.])"
      ]
     },
     "execution_count": 78,
     "metadata": {},
     "output_type": "execute_result"
    }
   ],
   "source": [
    "b"
   ]
  },
  {
   "cell_type": "code",
   "execution_count": 81,
   "metadata": {},
   "outputs": [],
   "source": [
    "limites = [(0, None) for a in arcos]"
   ]
  },
  {
   "cell_type": "code",
   "execution_count": 82,
   "metadata": {},
   "outputs": [
    {
     "data": {
      "text/plain": [
       "[(0, None), (0, None), (0, None), (0, None), (0, None), (0, None), (0, None)]"
      ]
     },
     "execution_count": 82,
     "metadata": {},
     "output_type": "execute_result"
    }
   ],
   "source": [
    "limites"
   ]
  },
  {
   "cell_type": "code",
   "execution_count": 84,
   "metadata": {},
   "outputs": [
    {
     "name": "stderr",
     "output_type": "stream",
     "text": [
      "<ipython-input-84-41428d71e259>:1: OptimizeWarning: A_eq does not appear to be of full row rank. To improve performance, check the problem formulation for redundant equality constraints.\n",
      "  r = linprog(c=c, A_eq = MAN, b_eq = b, bounds = limites)\n"
     ]
    }
   ],
   "source": [
    "r = linprog(c=c, A_eq = MAN, b_eq = b, bounds = limites)"
   ]
  },
  {
   "cell_type": "code",
   "execution_count": 100,
   "metadata": {},
   "outputs": [],
   "source": [
    "resultados = r['x']"
   ]
  },
  {
   "cell_type": "markdown",
   "metadata": {},
   "source": [
    "\"Limamos\" los resultados:"
   ]
  },
  {
   "cell_type": "code",
   "execution_count": 101,
   "metadata": {},
   "outputs": [],
   "source": [
    "resultados = resultados.round(3)"
   ]
  },
  {
   "cell_type": "code",
   "execution_count": 102,
   "metadata": {},
   "outputs": [
    {
     "data": {
      "text/plain": [
       "array([1., 0., 1., 0., 0., 1., 0.])"
      ]
     },
     "execution_count": 102,
     "metadata": {},
     "output_type": "execute_result"
    }
   ],
   "source": [
    "resultados"
   ]
  },
  {
   "cell_type": "markdown",
   "metadata": {},
   "source": [
    "El costo total:"
   ]
  },
  {
   "cell_type": "code",
   "execution_count": 104,
   "metadata": {},
   "outputs": [
    {
     "data": {
      "text/plain": [
       "5.000000001088329"
      ]
     },
     "execution_count": 104,
     "metadata": {},
     "output_type": "execute_result"
    }
   ],
   "source": [
    "r['fun']"
   ]
  },
  {
   "cell_type": "markdown",
   "metadata": {},
   "source": [
    "Los arcos seleccionados:"
   ]
  },
  {
   "cell_type": "code",
   "execution_count": 105,
   "metadata": {},
   "outputs": [],
   "source": [
    "camino = []\n",
    "for a in range(len(graph)):\n",
    "    if resultados[a] > 0:\n",
    "        camino.append(graph[a])"
   ]
  },
  {
   "cell_type": "code",
   "execution_count": 106,
   "metadata": {},
   "outputs": [
    {
     "data": {
      "text/plain": [
       "[((0, 1), 2), ((1, 3), 2), ((3, 5), 1)]"
      ]
     },
     "execution_count": 106,
     "metadata": {},
     "output_type": "execute_result"
    }
   ],
   "source": [
    "camino"
   ]
  },
  {
   "cell_type": "code",
   "execution_count": 115,
   "metadata": {},
   "outputs": [],
   "source": [
    "def print_camino(camino):\n",
    "    s = ''\n",
    "    sep = ' -> '\n",
    "    if len(camino)>0:\n",
    "        s += str(camino[0][0][0]) + sep\n",
    "    for t in camino:\n",
    "        s += str(t[0][1]) + sep\n",
    "    return s"
   ]
  },
  {
   "cell_type": "code",
   "execution_count": 116,
   "metadata": {},
   "outputs": [
    {
     "data": {
      "text/plain": [
       "'0 -> 1 -> 3 -> 5 -> '"
      ]
     },
     "execution_count": 116,
     "metadata": {},
     "output_type": "execute_result"
    }
   ],
   "source": [
    "print_camino(camino)"
   ]
  },
  {
   "cell_type": "code",
   "execution_count": 117,
   "metadata": {},
   "outputs": [
    {
     "data": {
      "text/plain": [
       "True"
      ]
     },
     "execution_count": 117,
     "metadata": {},
     "output_type": "execute_result"
    }
   ],
   "source": []
  },
  {
   "cell_type": "code",
   "execution_count": null,
   "metadata": {},
   "outputs": [],
   "source": []
  }
 ],
 "metadata": {
  "kernelspec": {
   "display_name": "Python 3",
   "language": "python",
   "name": "python3"
  },
  "language_info": {
   "codemirror_mode": {
    "name": "ipython",
    "version": 3
   },
   "file_extension": ".py",
   "mimetype": "text/x-python",
   "name": "python",
   "nbconvert_exporter": "python",
   "pygments_lexer": "ipython3",
   "version": "3.8.1"
  }
 },
 "nbformat": 4,
 "nbformat_minor": 4
}
