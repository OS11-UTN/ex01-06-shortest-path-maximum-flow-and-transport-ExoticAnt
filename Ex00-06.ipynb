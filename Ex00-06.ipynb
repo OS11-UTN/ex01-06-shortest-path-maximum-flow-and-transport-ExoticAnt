{
 "cells": [
  {
   "cell_type": "markdown",
   "metadata": {},
   "source": [
    "# OS11 - Exercises 0-6"
   ]
  },
  {
   "cell_type": "code",
   "execution_count": 1,
   "metadata": {},
   "outputs": [],
   "source": [
    "from sympy import *"
   ]
  },
  {
   "cell_type": "code",
   "execution_count": 2,
   "metadata": {},
   "outputs": [],
   "source": [
    "import numpy as np"
   ]
  },
  {
   "cell_type": "code",
   "execution_count": 3,
   "metadata": {},
   "outputs": [],
   "source": [
    "import scipy.linalg as linalg"
   ]
  },
  {
   "cell_type": "code",
   "execution_count": 4,
   "metadata": {},
   "outputs": [],
   "source": [
    "from scipy.optimize import linprog"
   ]
  },
  {
   "cell_type": "code",
   "execution_count": 5,
   "metadata": {},
   "outputs": [],
   "source": [
    "from itertools import *"
   ]
  },
  {
   "cell_type": "markdown",
   "metadata": {},
   "source": [
    "## Exercise 0"
   ]
  },
  {
   "cell_type": "markdown",
   "metadata": {},
   "source": [
    "Build a function that transforms a Node-Node matrix to a Node-Arc matrix."
   ]
  },
  {
   "cell_type": "markdown",
   "metadata": {},
   "source": [
    "### Data Introduction"
   ]
  },
  {
   "cell_type": "markdown",
   "metadata": {},
   "source": [
    "Data will be introduced on a list of (origin, dest, cost) tuples (or any indexable)."
   ]
  },
  {
   "cell_type": "code",
   "execution_count": 6,
   "metadata": {},
   "outputs": [],
   "source": [
    "datos_originales = []"
   ]
  },
  {
   "cell_type": "code",
   "execution_count": 7,
   "metadata": {},
   "outputs": [],
   "source": [
    "datos_originales.append((1, 2, 1))\n",
    "#datos_originales.append((2, 1, 1))   #creo un ciclo a proposito #no es una buena idea\n",
    "datos_originales.append((1, 3, 1))\n",
    "datos_originales.append((2, 3, 1))\n",
    "datos_originales.append((3, 4, 1))\n",
    "datos_originales.append((4, 1, 1))\n"
   ]
  },
  {
   "cell_type": "code",
   "execution_count": 8,
   "metadata": {},
   "outputs": [
    {
     "data": {
      "text/plain": [
       "[(1, 2, 1), (1, 3, 1), (2, 3, 1), (3, 4, 1), (4, 1, 1)]"
      ]
     },
     "execution_count": 8,
     "metadata": {},
     "output_type": "execute_result"
    }
   ],
   "source": [
    "datos_originales"
   ]
  },
  {
   "cell_type": "markdown",
   "metadata": {},
   "source": [
    "### Node-Node Matrix creation"
   ]
  },
  {
   "cell_type": "markdown",
   "metadata": {},
   "source": [
    "We need to pass from a sparse to a dense matrix formulation."
   ]
  },
  {
   "cell_type": "code",
   "execution_count": 9,
   "metadata": {},
   "outputs": [],
   "source": [
    "#Max nodes:\n",
    "nodes = 0\n",
    "for d in datos_originales:\n",
    "    if d[0]> nodes:\n",
    "        nodes =d[0]\n",
    "    if d[1] > nodes:\n",
    "        nodes = d[1]"
   ]
  },
  {
   "cell_type": "code",
   "execution_count": 10,
   "metadata": {},
   "outputs": [
    {
     "data": {
      "text/plain": [
       "4"
      ]
     },
     "execution_count": 10,
     "metadata": {},
     "output_type": "execute_result"
    }
   ],
   "source": [
    "nodes"
   ]
  },
  {
   "cell_type": "code",
   "execution_count": 11,
   "metadata": {},
   "outputs": [],
   "source": [
    "NN = np.zeros((4,4))"
   ]
  },
  {
   "cell_type": "code",
   "execution_count": 12,
   "metadata": {},
   "outputs": [
    {
     "data": {
      "text/plain": [
       "array([[0., 0., 0., 0.],\n",
       "       [0., 0., 0., 0.],\n",
       "       [0., 0., 0., 0.],\n",
       "       [0., 0., 0., 0.]])"
      ]
     },
     "execution_count": 12,
     "metadata": {},
     "output_type": "execute_result"
    }
   ],
   "source": [
    "NN"
   ]
  },
  {
   "cell_type": "code",
   "execution_count": 13,
   "metadata": {},
   "outputs": [],
   "source": [
    "for d in datos_originales:\n",
    "    NN[d[0]-1, d[1]-1] = d[2]"
   ]
  },
  {
   "cell_type": "code",
   "execution_count": 14,
   "metadata": {},
   "outputs": [
    {
     "data": {
      "text/plain": [
       "array([[0., 1., 1., 0.],\n",
       "       [0., 0., 1., 0.],\n",
       "       [0., 0., 0., 1.],\n",
       "       [1., 0., 0., 0.]])"
      ]
     },
     "execution_count": 14,
     "metadata": {},
     "output_type": "execute_result"
    }
   ],
   "source": [
    "NN"
   ]
  },
  {
   "cell_type": "markdown",
   "metadata": {},
   "source": [
    "### Arc Detection"
   ]
  },
  {
   "cell_type": "markdown",
   "metadata": {},
   "source": [
    "We create a funtion that returns a list of arcs and weights from NN matrix. Basically reverts to original data."
   ]
  },
  {
   "cell_type": "code",
   "execution_count": 15,
   "metadata": {},
   "outputs": [],
   "source": [
    "def arc_detection(NN):\n",
    "    arcs = []\n",
    "    #each arc will be represented as a tuple\n",
    "    for a in ((x,y) for x in range(NN.shape[0]) for y in range(NN.shape[1])):\n",
    "        if NN[a]>0:\n",
    "            arcs.append((a, NN[a]))\n",
    "    return arcs"
   ]
  },
  {
   "cell_type": "code",
   "execution_count": 16,
   "metadata": {},
   "outputs": [],
   "source": [
    "arcs = arc_detection(NN)"
   ]
  },
  {
   "cell_type": "code",
   "execution_count": 17,
   "metadata": {},
   "outputs": [
    {
     "data": {
      "text/plain": [
       "[((0, 1), 1.0), ((0, 2), 1.0), ((1, 2), 1.0), ((2, 3), 1.0), ((3, 0), 1.0)]"
      ]
     },
     "execution_count": 17,
     "metadata": {},
     "output_type": "execute_result"
    }
   ],
   "source": [
    "arcs"
   ]
  },
  {
   "cell_type": "markdown",
   "metadata": {},
   "source": [
    "### Arc-Nodes Matrix Creation"
   ]
  },
  {
   "cell_type": "markdown",
   "metadata": {},
   "source": [
    "Finally we created ANMatrix funtion that receives a n N x N matrix and returns a Nodes x Arcs Matrix."
   ]
  },
  {
   "cell_type": "code",
   "execution_count": 18,
   "metadata": {},
   "outputs": [],
   "source": [
    "def ANMatrix(NN):\n",
    "    arcs = arc_detection(NN)\n",
    "    MN = np.zeros((NN.shape[0], len(arcs))).astype(int)\n",
    "    for a in range(len(arcs)):\n",
    "        MN[arcs[a][0][0], a] = arcs[a][1]\n",
    "        MN[arcs[a][0][1], a] = -arcs[a][1]\n",
    "    arcss = [a[0] for a in arcs]\n",
    "    return MN, arcss"
   ]
  },
  {
   "cell_type": "code",
   "execution_count": 19,
   "metadata": {},
   "outputs": [
    {
     "data": {
      "text/plain": [
       "(array([[ 1,  1,  0,  0, -1],\n",
       "        [-1,  0,  1,  0,  0],\n",
       "        [ 0, -1, -1,  1,  0],\n",
       "        [ 0,  0,  0, -1,  1]]),\n",
       " [(0, 1), (0, 2), (1, 2), (2, 3), (3, 0)])"
      ]
     },
     "execution_count": 19,
     "metadata": {},
     "output_type": "execute_result"
    }
   ],
   "source": [
    "ANMatrix(NN)"
   ]
  },
  {
   "cell_type": "markdown",
   "metadata": {},
   "source": [
    "## Ex. 01-02"
   ]
  },
  {
   "cell_type": "markdown",
   "metadata": {},
   "source": [
    "Data introduction: we load the graph using Ex. 0 technique."
   ]
  },
  {
   "cell_type": "code",
   "execution_count": 20,
   "metadata": {},
   "outputs": [],
   "source": [
    "named_nodes = ['s', 2, 3, 4, 5, 't']   #node enumeration. Can be any non repeated inmutable."
   ]
  },
  {
   "cell_type": "markdown",
   "metadata": {},
   "source": [
    "I want to use index notation on node names, for this we can create a dictionary with node names and indexes."
   ]
  },
  {
   "cell_type": "code",
   "execution_count": 21,
   "metadata": {},
   "outputs": [],
   "source": [
    "def nodes_indexer(named_nodes):\n",
    "    nodes = {}\n",
    "    for i in range(len(named_nodes)):\n",
    "        nodes[named_nodes[i]] = i\n",
    "    return nodes"
   ]
  },
  {
   "cell_type": "code",
   "execution_count": 22,
   "metadata": {},
   "outputs": [],
   "source": [
    "nodes = nodes_indexer(named_nodes)"
   ]
  },
  {
   "cell_type": "markdown",
   "metadata": {},
   "source": [
    "Example:"
   ]
  },
  {
   "cell_type": "code",
   "execution_count": 23,
   "metadata": {},
   "outputs": [
    {
     "data": {
      "text/plain": [
       "5"
      ]
     },
     "execution_count": 23,
     "metadata": {},
     "output_type": "execute_result"
    }
   ],
   "source": [
    "nodes['t']"
   ]
  },
  {
   "cell_type": "code",
   "execution_count": 24,
   "metadata": {},
   "outputs": [
    {
     "data": {
      "text/plain": [
       "4"
      ]
     },
     "execution_count": 24,
     "metadata": {},
     "output_type": "execute_result"
    }
   ],
   "source": [
    "nodes[5]"
   ]
  },
  {
   "cell_type": "markdown",
   "metadata": {},
   "source": [
    "Using nodes indexed, I load oriented graph data using Ex. 0 schema."
   ]
  },
  {
   "cell_type": "code",
   "execution_count": 25,
   "metadata": {},
   "outputs": [
    {
     "data": {
      "text/plain": [
       "[((0, 1), 2),\n",
       " ((0, 2), 2),\n",
       " ((1, 3), 2),\n",
       " ((1, 5), 5),\n",
       " ((2, 4), 2),\n",
       " ((3, 5), 1),\n",
       " ((4, 5), 2)]"
      ]
     },
     "execution_count": 25,
     "metadata": {},
     "output_type": "execute_result"
    }
   ],
   "source": [
    "graph = []\n",
    "\n",
    "graph.append(((nodes['s'], nodes[2]), 2))\n",
    "graph.append(((nodes['s'], nodes[3]), 2))\n",
    "graph.append(((nodes[2], nodes[4]), 2))\n",
    "graph.append(((nodes[2], nodes['t']), 5))\n",
    "graph.append(((nodes[3], nodes[5]), 2))\n",
    "graph.append(((nodes[4], nodes['t']), 1))\n",
    "graph.append(((nodes[5], nodes['t']), 2))\n",
    "\n",
    "graph\n"
   ]
  },
  {
   "cell_type": "markdown",
   "metadata": {},
   "source": [
    "I'll construct a new Arc-Nodes matrix function that uses directly graph data."
   ]
  },
  {
   "cell_type": "code",
   "execution_count": 26,
   "metadata": {},
   "outputs": [],
   "source": [
    "def ANMatrix_from_arcs(graph, num_nodes):\n",
    "    num_arcs = len(graph)\n",
    "    arcs = []\n",
    "    MN = np.zeros((num_nodes, num_arcs)).astype(int)\n",
    "    for a in range(len(graph)):\n",
    "        MN[graph[a][0][0], a] = 1\n",
    "        MN[graph[a][0][1], a] = -1\n",
    "        arcs.append(graph[a][0])\n",
    "    return MN, arcs"
   ]
  },
  {
   "cell_type": "code",
   "execution_count": 27,
   "metadata": {},
   "outputs": [
    {
     "data": {
      "text/plain": [
       "(array([[ 1,  1,  0,  0,  0,  0,  0],\n",
       "        [-1,  0,  1,  1,  0,  0,  0],\n",
       "        [ 0, -1,  0,  0,  1,  0,  0],\n",
       "        [ 0,  0, -1,  0,  0,  1,  0],\n",
       "        [ 0,  0,  0,  0, -1,  0,  1],\n",
       "        [ 0,  0,  0, -1,  0, -1, -1]]),\n",
       " [(0, 1), (0, 2), (1, 3), (1, 5), (2, 4), (3, 5), (4, 5)])"
      ]
     },
     "execution_count": 27,
     "metadata": {},
     "output_type": "execute_result"
    }
   ],
   "source": [
    "res = ANMatrix_from_arcs(graph, len(nodes))\n",
    "res"
   ]
  },
  {
   "cell_type": "code",
   "execution_count": 28,
   "metadata": {},
   "outputs": [],
   "source": [
    "MAN = res[0]\n",
    "arcos = res[1]"
   ]
  },
  {
   "cell_type": "markdown",
   "metadata": {},
   "source": [
    "Necesitamos construir el vector de costos (longitudes entre nodos)."
   ]
  },
  {
   "cell_type": "code",
   "execution_count": 29,
   "metadata": {},
   "outputs": [],
   "source": [
    "def costos(graph):\n",
    "    c = []\n",
    "    for a in graph:\n",
    "        c.append(a[1])\n",
    "    return c"
   ]
  },
  {
   "cell_type": "code",
   "execution_count": 30,
   "metadata": {},
   "outputs": [
    {
     "data": {
      "text/plain": [
       "array([2, 2, 2, 5, 2, 1, 2])"
      ]
     },
     "execution_count": 30,
     "metadata": {},
     "output_type": "execute_result"
    }
   ],
   "source": [
    "c = costos(graph)\n",
    "c = np.array(c)\n",
    "c"
   ]
  },
  {
   "cell_type": "markdown",
   "metadata": {},
   "source": [
    "El verctor de igualdades b:\n",
    "    "
   ]
  },
  {
   "cell_type": "code",
   "execution_count": 31,
   "metadata": {},
   "outputs": [
    {
     "data": {
      "text/plain": [
       "array([0., 0., 0., 0., 0., 0.])"
      ]
     },
     "execution_count": 31,
     "metadata": {},
     "output_type": "execute_result"
    }
   ],
   "source": [
    "b = np.zeros((len(nodes)))\n",
    "b"
   ]
  },
  {
   "cell_type": "markdown",
   "metadata": {},
   "source": [
    "Asignamos los valores predeterminados de los nodos de entrada y salida:"
   ]
  },
  {
   "cell_type": "code",
   "execution_count": 32,
   "metadata": {},
   "outputs": [],
   "source": [
    "b[nodes['s']] = 1\n",
    "b[nodes['t']] = -1"
   ]
  },
  {
   "cell_type": "code",
   "execution_count": 33,
   "metadata": {},
   "outputs": [
    {
     "data": {
      "text/plain": [
       "array([ 1.,  0.,  0.,  0.,  0., -1.])"
      ]
     },
     "execution_count": 33,
     "metadata": {},
     "output_type": "execute_result"
    }
   ],
   "source": [
    "b"
   ]
  },
  {
   "cell_type": "code",
   "execution_count": 34,
   "metadata": {},
   "outputs": [],
   "source": [
    "limites = [(0, None) for a in arcos]"
   ]
  },
  {
   "cell_type": "code",
   "execution_count": 35,
   "metadata": {},
   "outputs": [
    {
     "data": {
      "text/plain": [
       "[(0, None), (0, None), (0, None), (0, None), (0, None), (0, None), (0, None)]"
      ]
     },
     "execution_count": 35,
     "metadata": {},
     "output_type": "execute_result"
    }
   ],
   "source": [
    "limites"
   ]
  },
  {
   "cell_type": "code",
   "execution_count": 36,
   "metadata": {},
   "outputs": [
    {
     "name": "stderr",
     "output_type": "stream",
     "text": [
      "<ipython-input-36-a72eea7bce7e>:1: OptimizeWarning: A_eq does not appear to be of full row rank. To improve performance, check the problem formulation for redundant equality constraints.\n",
      "  r = linprog(c=c, A_eq = MAN, b_eq = b, bounds = limites, method = 'revised simplex')\n"
     ]
    }
   ],
   "source": [
    "r = linprog(c=c, A_eq = MAN, b_eq = b, bounds = limites, method = 'revised simplex')"
   ]
  },
  {
   "cell_type": "code",
   "execution_count": 37,
   "metadata": {},
   "outputs": [],
   "source": [
    "resultados = r['x']"
   ]
  },
  {
   "cell_type": "code",
   "execution_count": 38,
   "metadata": {},
   "outputs": [
    {
     "data": {
      "text/plain": [
       "array([1., 0., 1., 0., 0., 1., 0.])"
      ]
     },
     "execution_count": 38,
     "metadata": {},
     "output_type": "execute_result"
    }
   ],
   "source": [
    "resultados"
   ]
  },
  {
   "cell_type": "markdown",
   "metadata": {},
   "source": [
    "El costo total:"
   ]
  },
  {
   "cell_type": "code",
   "execution_count": 39,
   "metadata": {},
   "outputs": [
    {
     "data": {
      "text/plain": [
       "5.0"
      ]
     },
     "execution_count": 39,
     "metadata": {},
     "output_type": "execute_result"
    }
   ],
   "source": [
    "r['fun']"
   ]
  },
  {
   "cell_type": "markdown",
   "metadata": {},
   "source": [
    "Los arcos seleccionados:"
   ]
  },
  {
   "cell_type": "code",
   "execution_count": 40,
   "metadata": {},
   "outputs": [],
   "source": [
    "camino = []\n",
    "for a in range(len(graph)):\n",
    "    if resultados[a] > 0:\n",
    "        camino.append(graph[a])"
   ]
  },
  {
   "cell_type": "code",
   "execution_count": 41,
   "metadata": {},
   "outputs": [
    {
     "data": {
      "text/plain": [
       "[((0, 1), 2), ((1, 3), 2), ((3, 5), 1)]"
      ]
     },
     "execution_count": 41,
     "metadata": {},
     "output_type": "execute_result"
    }
   ],
   "source": [
    "camino"
   ]
  },
  {
   "cell_type": "code",
   "execution_count": 42,
   "metadata": {},
   "outputs": [],
   "source": [
    "def print_camino(camino):\n",
    "    s = ''\n",
    "    sep = ' -> '\n",
    "    if len(camino)>0:\n",
    "        s += str(camino[0][0][0]) + sep\n",
    "    for t in camino:\n",
    "        s += str(t[0][1]) + sep\n",
    "    return s"
   ]
  },
  {
   "cell_type": "code",
   "execution_count": 43,
   "metadata": {},
   "outputs": [
    {
     "data": {
      "text/plain": [
       "'0 -> 1 -> 3 -> 5 -> '"
      ]
     },
     "execution_count": 43,
     "metadata": {},
     "output_type": "execute_result"
    }
   ],
   "source": [
    "print_camino(camino)"
   ]
  },
  {
   "cell_type": "markdown",
   "metadata": {},
   "source": [
    "## Ex 03 - Dikjstra"
   ]
  },
  {
   "cell_type": "markdown",
   "metadata": {},
   "source": [
    "### Data estructure definition"
   ]
  },
  {
   "cell_type": "markdown",
   "metadata": {},
   "source": [
    "For this exercice, I will use a class as Node type. Each node contain neighbours information and also, after Dijkstra algorithm, optimum  previous node and total distance from origin."
   ]
  },
  {
   "cell_type": "code",
   "execution_count": 44,
   "metadata": {},
   "outputs": [],
   "source": [
    "class Nodo:\n",
    "    def __init__(self, nombre):\n",
    "        self.nombre = nombre     #identifier. Any non mutable\n",
    "        self.distancia = None    #distance from origin\n",
    "        self.previo = None   #previos node\n",
    "        self.vecinos = {}    #dictionary of neighbour, distance pairs (forward)\n",
    "    \n",
    "    def agregar_vecino(self, nodo, distancia):\n",
    "        self.vecinos[nodo] = distancia\n",
    "        \n",
    "    def camino(self):\n",
    "        #Constructs an string containing path from node to origin.\n",
    "        s = str(self.nombre) + ' <- ' + (self.previo.camino() if self.previo else '')\n",
    "        return s\n",
    "    \n",
    "    #usual python duck-typing:\n",
    "    def __str__(self):\n",
    "        return \"Nodo {0} \".format(self.nombre, self.distancia, self.previo)\n",
    "    \n",
    "    def __repr__(self):\n",
    "        return self.__str__()\n",
    "    \n"
   ]
  },
  {
   "cell_type": "markdown",
   "metadata": {},
   "source": [
    "### Graph data\n",
    "\n",
    "Using preceden struct, I construc the graph"
   ]
  },
  {
   "cell_type": "code",
   "execution_count": 45,
   "metadata": {},
   "outputs": [],
   "source": [
    "Nodos = {}\n",
    "\n",
    "Nodos['s'] = Nodo('s')\n",
    "Nodos[2] = Nodo(2)\n",
    "Nodos[3] = Nodo(3)\n",
    "Nodos[4] = Nodo(4)\n",
    "Nodos[5] = Nodo(5)\n",
    "Nodos['t'] = Nodo('t')"
   ]
  },
  {
   "cell_type": "code",
   "execution_count": 46,
   "metadata": {},
   "outputs": [],
   "source": [
    "Nodos['s'].agregar_vecino(Nodos[2], 2)\n",
    "Nodos['s'].agregar_vecino(Nodos[3], 2)\n",
    "\n",
    "Nodos[2].agregar_vecino(Nodos[4], 2)\n",
    "Nodos[2].agregar_vecino(Nodos['t'], 5)\n",
    "\n",
    "Nodos[3].agregar_vecino(Nodos[5], 2)\n",
    "\n",
    "Nodos[4].agregar_vecino(Nodos['t'], 1)\n",
    "\n",
    "Nodos[5].agregar_vecino(Nodos['t'], 2)\n"
   ]
  },
  {
   "cell_type": "markdown",
   "metadata": {},
   "source": [
    "Example usage..."
   ]
  },
  {
   "cell_type": "code",
   "execution_count": 47,
   "metadata": {},
   "outputs": [
    {
     "data": {
      "text/plain": [
       "Nodo s "
      ]
     },
     "execution_count": 47,
     "metadata": {},
     "output_type": "execute_result"
    }
   ],
   "source": [
    "Nodos['s']"
   ]
  },
  {
   "cell_type": "code",
   "execution_count": 48,
   "metadata": {},
   "outputs": [
    {
     "data": {
      "text/plain": [
       "{Nodo 4 : 2, Nodo t : 5}"
      ]
     },
     "execution_count": 48,
     "metadata": {},
     "output_type": "execute_result"
    }
   ],
   "source": [
    "Nodos[2].vecinos"
   ]
  },
  {
   "cell_type": "markdown",
   "metadata": {},
   "source": [
    "### Dijkstra algoritm\n",
    "\n",
    "I implement in a single function the algorithm."
   ]
  },
  {
   "cell_type": "code",
   "execution_count": 49,
   "metadata": {},
   "outputs": [],
   "source": [
    "def algoritmo_Dijkstra(nodo_inicial):\n",
    "    modificados = []\n",
    "    nodo_inicial.distancia = 0\n",
    "    seguir = True\n",
    "    modificados.append(nodo_inicial)    # on first iteration, initial node is marked as modified\n",
    "    while seguir:\n",
    "        new_modif = []   #each iteration, we record modified nodes\n",
    "        for nodo in modificados:   #for each node modified on previous iteration\n",
    "            for v in nodo.vecinos: #for each node in neigborhoods\n",
    "                if not v.distancia:     #if it's first time in this node\n",
    "                    v.distancia = nodo.distancia + nodo.vecinos[v]  # new distance\n",
    "                    v.previo = nodo\n",
    "                    if not v in new_modif:\n",
    "                        new_modif.append(v) \n",
    "                else:\n",
    "                    d_p = nodo.distancia + nodo.vecinos[v]  # new distance candidate\n",
    "                    if d_p < v.distancia:\n",
    "                        v.previo = nodo\n",
    "                        v.distancia = d_p\n",
    "                        if not v in new_modif:\n",
    "                            new_modif.append(v) \n",
    "        if len(new_modif) > 0:\n",
    "            modificados = new_modif\n",
    "            seguir = True\n",
    "        else:\n",
    "            seguir = False"
   ]
  },
  {
   "cell_type": "markdown",
   "metadata": {},
   "source": [
    "### Using"
   ]
  },
  {
   "cell_type": "code",
   "execution_count": 50,
   "metadata": {},
   "outputs": [],
   "source": [
    "algoritmo_Dijkstra(Nodos['s'])"
   ]
  },
  {
   "cell_type": "code",
   "execution_count": 51,
   "metadata": {},
   "outputs": [
    {
     "data": {
      "text/plain": [
       "5"
      ]
     },
     "execution_count": 51,
     "metadata": {},
     "output_type": "execute_result"
    }
   ],
   "source": [
    "Nodos['t'].distancia"
   ]
  },
  {
   "cell_type": "code",
   "execution_count": 52,
   "metadata": {},
   "outputs": [
    {
     "data": {
      "text/plain": [
       "'t <- 4 <- 2 <- s <- '"
      ]
     },
     "execution_count": 52,
     "metadata": {},
     "output_type": "execute_result"
    }
   ],
   "source": [
    "Nodos['t'].camino()"
   ]
  },
  {
   "cell_type": "markdown",
   "metadata": {},
   "source": [
    "## Ex 4 - Maximum Flow"
   ]
  },
  {
   "cell_type": "code",
   "execution_count": 53,
   "metadata": {},
   "outputs": [],
   "source": [
    "named_nodes = ['s', 2, 3, 4, 5, 't']   #node enumeration. Can be any non repeated inmutable."
   ]
  },
  {
   "cell_type": "code",
   "execution_count": 54,
   "metadata": {},
   "outputs": [],
   "source": [
    "nodes = nodes_indexer(named_nodes)"
   ]
  },
  {
   "cell_type": "code",
   "execution_count": 55,
   "metadata": {},
   "outputs": [
    {
     "data": {
      "text/plain": [
       "[((0, 1), 7),\n",
       " ((0, 2), 1),\n",
       " ((1, 3), 2),\n",
       " ((1, 5), 3),\n",
       " ((2, 4), 2),\n",
       " ((3, 5), 1),\n",
       " ((4, 5), 2),\n",
       " ((5, 0), None)]"
      ]
     },
     "execution_count": 55,
     "metadata": {},
     "output_type": "execute_result"
    }
   ],
   "source": [
    "graph = []\n",
    "\n",
    "graph.append(((nodes['s'], nodes[2]), 7))\n",
    "graph.append(((nodes['s'], nodes[3]), 1))\n",
    "\n",
    "graph.append(((nodes[2], nodes[4]), 2))\n",
    "graph.append(((nodes[2], nodes['t']), 3))\n",
    "\n",
    "graph.append(((nodes[3], nodes[5]), 2))\n",
    "\n",
    "graph.append(((nodes[4], nodes['t']), 1))\n",
    "\n",
    "graph.append(((nodes[5], nodes['t']), 2))\n",
    "\n",
    "graph.append(((nodes['t'], nodes['s']), None))\n",
    "\n",
    "\n",
    "graph"
   ]
  },
  {
   "cell_type": "code",
   "execution_count": 56,
   "metadata": {},
   "outputs": [],
   "source": [
    "res = ANMatrix_from_arcs(graph, len(nodes))\n",
    "A = res[0]\n",
    "arcos = res[1]"
   ]
  },
  {
   "cell_type": "code",
   "execution_count": 57,
   "metadata": {},
   "outputs": [
    {
     "data": {
      "text/plain": [
       "array([[ 1,  1,  0,  0,  0,  0,  0, -1],\n",
       "       [-1,  0,  1,  1,  0,  0,  0,  0],\n",
       "       [ 0, -1,  0,  0,  1,  0,  0,  0],\n",
       "       [ 0,  0, -1,  0,  0,  1,  0,  0],\n",
       "       [ 0,  0,  0,  0, -1,  0,  1,  0],\n",
       "       [ 0,  0,  0, -1,  0, -1, -1,  1]])"
      ]
     },
     "execution_count": 57,
     "metadata": {},
     "output_type": "execute_result"
    }
   ],
   "source": [
    "A"
   ]
  },
  {
   "cell_type": "code",
   "execution_count": 58,
   "metadata": {},
   "outputs": [
    {
     "data": {
      "text/plain": [
       "[(0, 1), (0, 2), (1, 3), (1, 5), (2, 4), (3, 5), (4, 5), (5, 0)]"
      ]
     },
     "execution_count": 58,
     "metadata": {},
     "output_type": "execute_result"
    }
   ],
   "source": [
    "arcos"
   ]
  },
  {
   "cell_type": "code",
   "execution_count": 59,
   "metadata": {},
   "outputs": [
    {
     "data": {
      "text/plain": [
       "array([ 0.,  0.,  0.,  0.,  0.,  0.,  0., -1.])"
      ]
     },
     "execution_count": 59,
     "metadata": {},
     "output_type": "execute_result"
    }
   ],
   "source": [
    "c = np.zeros((len(arcos)))\n",
    "c[-1]=-1\n",
    "c"
   ]
  },
  {
   "cell_type": "markdown",
   "metadata": {},
   "source": [
    "El verctor de igualdades b:\n",
    "    "
   ]
  },
  {
   "cell_type": "code",
   "execution_count": 60,
   "metadata": {},
   "outputs": [
    {
     "data": {
      "text/plain": [
       "array([0., 0., 0., 0., 0., 0.])"
      ]
     },
     "execution_count": 60,
     "metadata": {},
     "output_type": "execute_result"
    }
   ],
   "source": [
    "b = np.zeros((len(nodes)))\n",
    "b"
   ]
  },
  {
   "cell_type": "code",
   "execution_count": 61,
   "metadata": {},
   "outputs": [],
   "source": [
    "limites = [(0, a[1]) for a in graph]"
   ]
  },
  {
   "cell_type": "code",
   "execution_count": 62,
   "metadata": {},
   "outputs": [
    {
     "data": {
      "text/plain": [
       "[(0, 7), (0, 1), (0, 2), (0, 3), (0, 2), (0, 1), (0, 2), (0, None)]"
      ]
     },
     "execution_count": 62,
     "metadata": {},
     "output_type": "execute_result"
    }
   ],
   "source": [
    "limites"
   ]
  },
  {
   "cell_type": "code",
   "execution_count": 63,
   "metadata": {},
   "outputs": [
    {
     "name": "stderr",
     "output_type": "stream",
     "text": [
      "<ipython-input-63-62916b0d23f2>:1: OptimizeWarning: A_eq does not appear to be of full row rank. To improve performance, check the problem formulation for redundant equality constraints.\n",
      "  r = linprog(c=c, A_eq = A, b_eq = b, bounds = limites, method='revised simplex')\n"
     ]
    }
   ],
   "source": [
    "r = linprog(c=c, A_eq = A, b_eq = b, bounds = limites, method='revised simplex')"
   ]
  },
  {
   "cell_type": "code",
   "execution_count": 64,
   "metadata": {},
   "outputs": [],
   "source": [
    "resultados = r['x']"
   ]
  },
  {
   "cell_type": "code",
   "execution_count": 65,
   "metadata": {},
   "outputs": [
    {
     "data": {
      "text/plain": [
       "array([4., 1., 1., 3., 1., 1., 1., 5.])"
      ]
     },
     "execution_count": 65,
     "metadata": {},
     "output_type": "execute_result"
    }
   ],
   "source": [
    "resultados"
   ]
  },
  {
   "cell_type": "code",
   "execution_count": 66,
   "metadata": {},
   "outputs": [
    {
     "data": {
      "text/plain": [
       "5.0"
      ]
     },
     "execution_count": 66,
     "metadata": {},
     "output_type": "execute_result"
    }
   ],
   "source": [
    "resultados[-1]"
   ]
  },
  {
   "cell_type": "markdown",
   "metadata": {},
   "source": [
    "## Ex 5 - Ford-Fulkenson Algorithm"
   ]
  },
  {
   "cell_type": "markdown",
   "metadata": {},
   "source": [
    "### Data estructure definition"
   ]
  },
  {
   "cell_type": "code",
   "execution_count": 67,
   "metadata": {},
   "outputs": [],
   "source": [
    "class Nodo:\n",
    "    def __init__(self, nombre):\n",
    "        self.nombre = nombre     #identifier. Any non mutable\n",
    "        self.branches = {}    #dictionary of neighbour, distance pairs (forward)\n",
    "    \n",
    "    def add_branch(self, nodo, max_flow):\n",
    "        self.branches[nodo] = {'max_flow': max_flow, 'available_flow': max_flow, 'current_flow':0.0}\n",
    "        \n",
    "    #usual python duck-typing:\n",
    "    def __str__(self):\n",
    "        return \"Node {0} \".format(self.nombre)\n",
    "    \n",
    "    def report(self):\n",
    "        s = 'Node {0} - Branches: {1}\\n'.format(self.nombre, len(self.branches))\n",
    "        total = 0.0\n",
    "        available = 0.0\n",
    "        current = 0.0\n",
    "        for k, v in self.branches.items():\n",
    "            total += v['max_flow']\n",
    "            available += v['available_flow']\n",
    "            current += v['current_flow']\n",
    "            s += \"    Branch {0} - Max Flow {1} - Current Flow {2} - Available Flow {3}\\n\".format(str(k), v['max_flow'], v['current_flow'], v['available_flow'])\n",
    "        \n",
    "        s += \"Node Stats: Max Flow {0} - Current Flow {1} - Available Flow {2}\\n\".format(total, current, available)\n",
    "        return s\n",
    "    \n",
    "    def __repr__(self):\n",
    "        return self.__str__()\n",
    "    \n"
   ]
  },
  {
   "cell_type": "markdown",
   "metadata": {},
   "source": [
    "### Graph Data"
   ]
  },
  {
   "cell_type": "code",
   "execution_count": 68,
   "metadata": {},
   "outputs": [],
   "source": [
    "Nodos = {}\n",
    "\n",
    "Nodos['s'] = Nodo('s')\n",
    "Nodos[2] = Nodo(2)\n",
    "Nodos[3] = Nodo(3)\n",
    "Nodos[4] = Nodo(4)\n",
    "Nodos[5] = Nodo(5)\n",
    "Nodos['t'] = Nodo('t')\n"
   ]
  },
  {
   "cell_type": "code",
   "execution_count": 69,
   "metadata": {},
   "outputs": [],
   "source": [
    "Nodos['s'].add_branch(Nodos[2], 7.0)\n",
    "Nodos['s'].add_branch(Nodos[3], 1.0)\n",
    "\n",
    "Nodos[2].add_branch(Nodos[4], 2.0)\n",
    "Nodos[2].add_branch(Nodos['t'], 3.0)\n",
    "\n",
    "Nodos[3].add_branch(Nodos[5], 2.0)\n",
    "\n",
    "Nodos[4].add_branch(Nodos['t'], 1.0)\n",
    "\n",
    "Nodos[5].add_branch(Nodos['t'], 5.0)\n"
   ]
  },
  {
   "cell_type": "markdown",
   "metadata": {},
   "source": [
    "### Algorithm implementation"
   ]
  },
  {
   "cell_type": "code",
   "execution_count": 70,
   "metadata": {},
   "outputs": [],
   "source": [
    "def find_available_path(origin, destination, flow = None):\n",
    "    found = None\n",
    "    for nodo, parameters in origin.branches.items():\n",
    "        if parameters['available_flow'] > 0:  #There are remaining flow\n",
    "            if nodo == destination:\n",
    "                #found a path\n",
    "                n_flow = parameters['available_flow']\n",
    "                found = nodo\n",
    "                #What is the available flow?\n",
    "                if not flow or n_flow < flow:    #flow can be None at the start. Also can be less that previous\n",
    "                    flow = n_flow\n",
    "                \n",
    "            else:  #node not destination node, try recursive search on this branch, \n",
    "                n_flow = parameters['available_flow']\n",
    "                if flow and flow < n_flow:\n",
    "                    n_flow = flow                   #n_flow is the max. available flow in this path up to here.\n",
    "                \n",
    "                found, n_flow = find_available_path(nodo, destination, n_flow)\n",
    "                if found:  #We've found a brach that connects with destination\n",
    "                    if not flow or n_flow < flow:  \n",
    "                        flow = n_flow\n",
    "\n",
    "        if found:\n",
    "            #We've found destination, now I update node flow stats:\n",
    "            parameters['available_flow'] = parameters['available_flow'] - flow\n",
    "            parameters['current_flow'] = parameters['current_flow'] + flow\n",
    "            #end branch iteration:\n",
    "            break \n",
    "    \n",
    "    return found, flow"
   ]
  },
  {
   "cell_type": "code",
   "execution_count": 71,
   "metadata": {},
   "outputs": [],
   "source": [
    "def Ford_Fulkenson(origin, destination):\n",
    "    while find_available_path(origin, destination)[0]:\n",
    "        pass"
   ]
  },
  {
   "cell_type": "markdown",
   "metadata": {},
   "source": [
    "### Resolution"
   ]
  },
  {
   "cell_type": "code",
   "execution_count": 72,
   "metadata": {},
   "outputs": [],
   "source": [
    "Ford_Fulkenson(Nodos['s'], Nodos['t'])"
   ]
  },
  {
   "cell_type": "markdown",
   "metadata": {},
   "source": [
    "### Results"
   ]
  },
  {
   "cell_type": "code",
   "execution_count": 73,
   "metadata": {},
   "outputs": [
    {
     "name": "stdout",
     "output_type": "stream",
     "text": [
      "Node s - Branches: 2\n",
      "    Branch Node 2  - Max Flow 7.0 - Current Flow 4.0 - Available Flow 3.0\n",
      "    Branch Node 3  - Max Flow 1.0 - Current Flow 1.0 - Available Flow 0.0\n",
      "Node Stats: Max Flow 8.0 - Current Flow 5.0 - Available Flow 3.0\n",
      "\n"
     ]
    }
   ],
   "source": [
    "print (Nodos['s'].report())"
   ]
  },
  {
   "cell_type": "markdown",
   "metadata": {},
   "source": [
    "## Ex 6 - Transport problem"
   ]
  },
  {
   "cell_type": "markdown",
   "metadata": {},
   "source": [
    "I repeat procedures used on problems 2 and 4."
   ]
  },
  {
   "cell_type": "markdown",
   "metadata": {},
   "source": [
    "### Problem data\n",
    "\n",
    "I will use more descriptive nodes in order to facilitate working with indexes."
   ]
  },
  {
   "cell_type": "code",
   "execution_count": 74,
   "metadata": {},
   "outputs": [],
   "source": [
    "named_nodes = ['of1', 'of2', 'of3', 'd1', 'd2']   #node enumeration. Can be any non repeated inmutable."
   ]
  },
  {
   "cell_type": "code",
   "execution_count": 75,
   "metadata": {},
   "outputs": [],
   "source": [
    "nodes = nodes_indexer(named_nodes)"
   ]
  },
  {
   "cell_type": "markdown",
   "metadata": {},
   "source": [
    "On each arc I will put cost of transportation"
   ]
  },
  {
   "cell_type": "code",
   "execution_count": 76,
   "metadata": {},
   "outputs": [
    {
     "data": {
      "text/plain": [
       "[((0, 3), 10),\n",
       " ((0, 4), 20),\n",
       " ((1, 3), 10),\n",
       " ((1, 4), 10),\n",
       " ((2, 3), 10),\n",
       " ((2, 4), 30)]"
      ]
     },
     "execution_count": 76,
     "metadata": {},
     "output_type": "execute_result"
    }
   ],
   "source": [
    "graph = []\n",
    "\n",
    "graph.append(((nodes['of1'], nodes['d1']), 10))\n",
    "graph.append(((nodes['of1'], nodes['d2']), 20))\n",
    "\n",
    "graph.append(((nodes['of2'], nodes['d1']), 10))\n",
    "graph.append(((nodes['of2'], nodes['d2']), 10))\n",
    "\n",
    "graph.append(((nodes['of3'], nodes['d1']), 10))\n",
    "graph.append(((nodes['of3'], nodes['d2']), 30))\n",
    "\n",
    "graph"
   ]
  },
  {
   "cell_type": "markdown",
   "metadata": {},
   "source": [
    "Suply and demands:"
   ]
  },
  {
   "cell_type": "code",
   "execution_count": 77,
   "metadata": {},
   "outputs": [
    {
     "data": {
      "text/plain": [
       "array([ 10.,  20.,  15., -25., -20.])"
      ]
     },
     "execution_count": 77,
     "metadata": {},
     "output_type": "execute_result"
    }
   ],
   "source": [
    "b= np.zeros((len(nodes)))\n",
    "b[nodes['of1']] = 10\n",
    "b[nodes['of2']] = 20\n",
    "b[nodes['of3']] = 15\n",
    "\n",
    "b[nodes['d1']] = -25\n",
    "b[nodes['d2']] = -20\n",
    "\n",
    "b"
   ]
  },
  {
   "cell_type": "markdown",
   "metadata": {},
   "source": [
    "Limits:"
   ]
  },
  {
   "cell_type": "code",
   "execution_count": 78,
   "metadata": {},
   "outputs": [
    {
     "data": {
      "text/plain": [
       "[(0, None), (0, None), (0, None), (0, None), (0, None), (0, None)]"
      ]
     },
     "execution_count": 78,
     "metadata": {},
     "output_type": "execute_result"
    }
   ],
   "source": [
    "limites = [(0, None) for a in graph]\n",
    "limites"
   ]
  },
  {
   "cell_type": "markdown",
   "metadata": {},
   "source": [
    "### Procedure"
   ]
  },
  {
   "cell_type": "markdown",
   "metadata": {},
   "source": [
    "Arc-Nodes matrix construction:"
   ]
  },
  {
   "cell_type": "code",
   "execution_count": 79,
   "metadata": {},
   "outputs": [],
   "source": [
    "res = ANMatrix_from_arcs(graph, len(nodes))\n",
    "A = res[0]\n",
    "arcos = res[1]"
   ]
  },
  {
   "cell_type": "code",
   "execution_count": 80,
   "metadata": {},
   "outputs": [
    {
     "data": {
      "text/plain": [
       "array([[ 1,  1,  0,  0,  0,  0],\n",
       "       [ 0,  0,  1,  1,  0,  0],\n",
       "       [ 0,  0,  0,  0,  1,  1],\n",
       "       [-1,  0, -1,  0, -1,  0],\n",
       "       [ 0, -1,  0, -1,  0, -1]])"
      ]
     },
     "execution_count": 80,
     "metadata": {},
     "output_type": "execute_result"
    }
   ],
   "source": [
    "A"
   ]
  },
  {
   "cell_type": "markdown",
   "metadata": {},
   "source": [
    "Cost function coefficients:"
   ]
  },
  {
   "cell_type": "code",
   "execution_count": 81,
   "metadata": {},
   "outputs": [
    {
     "data": {
      "text/plain": [
       "[10, 20, 10, 10, 10, 30]"
      ]
     },
     "execution_count": 81,
     "metadata": {},
     "output_type": "execute_result"
    }
   ],
   "source": [
    "c = [a[1] for a in graph]\n",
    "c"
   ]
  },
  {
   "cell_type": "markdown",
   "metadata": {},
   "source": [
    "I will run optimization algorithm:"
   ]
  },
  {
   "cell_type": "code",
   "execution_count": 82,
   "metadata": {},
   "outputs": [
    {
     "name": "stderr",
     "output_type": "stream",
     "text": [
      "<ipython-input-82-62916b0d23f2>:1: OptimizeWarning: A_eq does not appear to be of full row rank. To improve performance, check the problem formulation for redundant equality constraints.\n",
      "  r = linprog(c=c, A_eq = A, b_eq = b, bounds = limites, method='revised simplex')\n"
     ]
    }
   ],
   "source": [
    "r = linprog(c=c, A_eq = A, b_eq = b, bounds = limites, method='revised simplex')"
   ]
  },
  {
   "cell_type": "markdown",
   "metadata": {},
   "source": [
    "Status:"
   ]
  },
  {
   "cell_type": "code",
   "execution_count": 83,
   "metadata": {},
   "outputs": [
    {
     "data": {
      "text/plain": [
       "True"
      ]
     },
     "execution_count": 83,
     "metadata": {},
     "output_type": "execute_result"
    }
   ],
   "source": [
    "r.success"
   ]
  },
  {
   "cell_type": "markdown",
   "metadata": {},
   "source": [
    "Total transportation cost:"
   ]
  },
  {
   "cell_type": "code",
   "execution_count": 84,
   "metadata": {},
   "outputs": [
    {
     "data": {
      "text/plain": [
       "450.0"
      ]
     },
     "execution_count": 84,
     "metadata": {},
     "output_type": "execute_result"
    }
   ],
   "source": [
    "r.fun"
   ]
  },
  {
   "cell_type": "markdown",
   "metadata": {},
   "source": [
    "Quantities transported on each route:"
   ]
  },
  {
   "cell_type": "code",
   "execution_count": 85,
   "metadata": {},
   "outputs": [],
   "source": [
    "x = r.x\n",
    "\n",
    "reversed_nodes = dict([(nodes[k], k) for k in nodes.keys()])"
   ]
  },
  {
   "cell_type": "code",
   "execution_count": 86,
   "metadata": {},
   "outputs": [
    {
     "name": "stdout",
     "output_type": "stream",
     "text": [
      "De nodo of1 a nodo d1: 10.0\n",
      "De nodo of1 a nodo d2: 0.0\n",
      "De nodo of2 a nodo d1: 0.0\n",
      "De nodo of2 a nodo d2: 20.0\n",
      "De nodo of3 a nodo d1: 15.0\n",
      "De nodo of3 a nodo d2: 0.0\n"
     ]
    }
   ],
   "source": [
    "for a in range(len(graph)):\n",
    "    print(\"De nodo {0} a nodo {1}: {2}\".format(reversed_nodes[graph[a][0][0]], reversed_nodes[graph[a][0][1]], x[a]))"
   ]
  }
 ],
 "metadata": {
  "kernelspec": {
   "display_name": "Python 3",
   "language": "python",
   "name": "python3"
  },
  "language_info": {
   "codemirror_mode": {
    "name": "ipython",
    "version": 3
   },
   "file_extension": ".py",
   "mimetype": "text/x-python",
   "name": "python",
   "nbconvert_exporter": "python",
   "pygments_lexer": "ipython3",
   "version": "3.8.1"
  }
 },
 "nbformat": 4,
 "nbformat_minor": 4
}
